{
 "cells": [
  {
   "cell_type": "code",
   "execution_count": 1,
   "id": "2cc6a193",
   "metadata": {},
   "outputs": [
    {
     "name": "stdout",
     "output_type": "stream",
     "text": [
      "Enter your name: suchitra\n",
      "Hiii suchitra !!! Welcome to word guessing game.\n",
      "The game is loading...\n",
      "Do you want hints? yes or no.yes\n",
      "Hint: she is a PriyaQubitian\n",
      "_  _  _  _  _  \n",
      "Guess a letter please: s\n",
      "s_  _  _  _  \n",
      "Guess a letter please: z\n",
      "Oops!!! you guessed wrong. Now you have 11 chances.\n",
      "s_  _  _  _  \n",
      "Guess a letter please: t\n",
      "Oops!!! you guessed wrong. Now you have 10 chances.\n",
      "s_  _  _  _  \n",
      "Guess a letter please: w\n",
      "Oops!!! you guessed wrong. Now you have 9 chances.\n",
      "s_  _  _  _  \n",
      "Guess a letter please: q\n",
      "Oops!!! you guessed wrong. Now you have 8 chances.\n",
      "s_  _  _  _  "
     ]
    },
    {
     "ename": "KeyboardInterrupt",
     "evalue": "Interrupted by user",
     "output_type": "error",
     "traceback": [
      "\u001b[1;31m---------------------------------------------------------------------------\u001b[0m",
      "\u001b[1;31mKeyboardInterrupt\u001b[0m                         Traceback (most recent call last)",
      "\u001b[1;32m<ipython-input-1-7d8ece93c4e3>\u001b[0m in \u001b[0;36m<module>\u001b[1;34m\u001b[0m\n\u001b[0;32m     40\u001b[0m         \u001b[1;32mbreak\u001b[0m\u001b[1;33m\u001b[0m\u001b[1;33m\u001b[0m\u001b[0m\n\u001b[0;32m     41\u001b[0m \u001b[1;33m\u001b[0m\u001b[0m\n\u001b[1;32m---> 42\u001b[1;33m     \u001b[0mguess\u001b[0m\u001b[1;33m=\u001b[0m\u001b[0minput\u001b[0m\u001b[1;33m(\u001b[0m\u001b[1;34m'\\nGuess a letter please: '\u001b[0m\u001b[1;33m)\u001b[0m\u001b[1;33m\u001b[0m\u001b[1;33m\u001b[0m\u001b[0m\n\u001b[0m\u001b[0;32m     43\u001b[0m     \u001b[0mguess_word\u001b[0m\u001b[1;33m+=\u001b[0m\u001b[0mguess\u001b[0m\u001b[1;33m\u001b[0m\u001b[1;33m\u001b[0m\u001b[0m\n\u001b[0;32m     44\u001b[0m \u001b[1;33m\u001b[0m\u001b[0m\n",
      "\u001b[1;32m~\\anaconda3\\lib\\site-packages\\ipykernel\\kernelbase.py\u001b[0m in \u001b[0;36mraw_input\u001b[1;34m(self, prompt)\u001b[0m\n\u001b[0;32m    858\u001b[0m                 \u001b[1;34m\"raw_input was called, but this frontend does not support input requests.\"\u001b[0m\u001b[1;33m\u001b[0m\u001b[1;33m\u001b[0m\u001b[0m\n\u001b[0;32m    859\u001b[0m             )\n\u001b[1;32m--> 860\u001b[1;33m         return self._input_request(str(prompt),\n\u001b[0m\u001b[0;32m    861\u001b[0m             \u001b[0mself\u001b[0m\u001b[1;33m.\u001b[0m\u001b[0m_parent_ident\u001b[0m\u001b[1;33m,\u001b[0m\u001b[1;33m\u001b[0m\u001b[1;33m\u001b[0m\u001b[0m\n\u001b[0;32m    862\u001b[0m             \u001b[0mself\u001b[0m\u001b[1;33m.\u001b[0m\u001b[0m_parent_header\u001b[0m\u001b[1;33m,\u001b[0m\u001b[1;33m\u001b[0m\u001b[1;33m\u001b[0m\u001b[0m\n",
      "\u001b[1;32m~\\anaconda3\\lib\\site-packages\\ipykernel\\kernelbase.py\u001b[0m in \u001b[0;36m_input_request\u001b[1;34m(self, prompt, ident, parent, password)\u001b[0m\n\u001b[0;32m    902\u001b[0m             \u001b[1;32mexcept\u001b[0m \u001b[0mKeyboardInterrupt\u001b[0m\u001b[1;33m:\u001b[0m\u001b[1;33m\u001b[0m\u001b[1;33m\u001b[0m\u001b[0m\n\u001b[0;32m    903\u001b[0m                 \u001b[1;31m# re-raise KeyboardInterrupt, to truncate traceback\u001b[0m\u001b[1;33m\u001b[0m\u001b[1;33m\u001b[0m\u001b[1;33m\u001b[0m\u001b[0m\n\u001b[1;32m--> 904\u001b[1;33m                 \u001b[1;32mraise\u001b[0m \u001b[0mKeyboardInterrupt\u001b[0m\u001b[1;33m(\u001b[0m\u001b[1;34m\"Interrupted by user\"\u001b[0m\u001b[1;33m)\u001b[0m \u001b[1;32mfrom\u001b[0m \u001b[1;32mNone\u001b[0m\u001b[1;33m\u001b[0m\u001b[1;33m\u001b[0m\u001b[0m\n\u001b[0m\u001b[0;32m    905\u001b[0m             \u001b[1;32mexcept\u001b[0m \u001b[0mException\u001b[0m \u001b[1;32mas\u001b[0m \u001b[0me\u001b[0m\u001b[1;33m:\u001b[0m\u001b[1;33m\u001b[0m\u001b[1;33m\u001b[0m\u001b[0m\n\u001b[0;32m    906\u001b[0m                 \u001b[0mself\u001b[0m\u001b[1;33m.\u001b[0m\u001b[0mlog\u001b[0m\u001b[1;33m.\u001b[0m\u001b[0mwarning\u001b[0m\u001b[1;33m(\u001b[0m\u001b[1;34m\"Invalid Message:\"\u001b[0m\u001b[1;33m,\u001b[0m \u001b[0mexc_info\u001b[0m\u001b[1;33m=\u001b[0m\u001b[1;32mTrue\u001b[0m\u001b[1;33m)\u001b[0m\u001b[1;33m\u001b[0m\u001b[1;33m\u001b[0m\u001b[0m\n",
      "\u001b[1;31mKeyboardInterrupt\u001b[0m: Interrupted by user"
     ]
    }
   ],
   "source": [
    "import random\n",
    "\n",
    "player_name=input('Enter your name: ')\n",
    "print('Hiii',player_name,'!!! Welcome to word guessing game.')\n",
    "\n",
    "priyaqubitians=['Aboli','Milli','Soumi','Hritika','Lohitha','Shivani']\n",
    "python_libaries=['NumPy','Pandas','SciPy','Matplotlib','Seaborn','Plotly']\n",
    "\n",
    "words=priyaqubitians + python_libaries\n",
    "\n",
    "secret_word=random.choice(words)\n",
    "random_word=secret_word.lower()\n",
    "\n",
    "\n",
    "\n",
    "print('The game is loading...')\n",
    "\n",
    "suggestion= input('Do you want hints? yes or no.') \n",
    "\n",
    "if suggestion=='yes':\n",
    "    if secret_word in priyaqubitians:\n",
    "        print('Hint: she is a PriyaQubitian')\n",
    "    else:\n",
    "        print('Hint: It is a Python libary')\n",
    "\n",
    "guess_word=''\n",
    "turns=12\n",
    "\n",
    "while turns>0:\n",
    "    wrong_guess=0\n",
    "    for i in random_word:\n",
    "        if i in guess_word:\n",
    "            print(i, end='')\n",
    "        else:\n",
    "            \n",
    "            print('_ ', end=' ')\n",
    "            wrong_guess+=1\n",
    "    if wrong_guess==0:\n",
    "        print('\\nCongratulations!!!',player_name,'you won the game.')\n",
    "        break\n",
    "        \n",
    "    guess=input('\\nGuess a letter please: ')\n",
    "    guess_word+=guess\n",
    "    \n",
    "    if guess not in random_word:\n",
    "        turns-=1\n",
    "        print('Oops!!! you guessed wrong. Now you have', turns,'chances.')\n",
    "        if turns==0:\n",
    "            print('Sorry,You lost the game. Better luck next time.')\n",
    "    "
   ]
  },
  {
   "cell_type": "code",
   "execution_count": null,
   "id": "48cb8a42",
   "metadata": {},
   "outputs": [],
   "source": []
  }
 ],
 "metadata": {
  "kernelspec": {
   "display_name": "Python 3",
   "language": "python",
   "name": "python3"
  },
  "language_info": {
   "codemirror_mode": {
    "name": "ipython",
    "version": 3
   },
   "file_extension": ".py",
   "mimetype": "text/x-python",
   "name": "python",
   "nbconvert_exporter": "python",
   "pygments_lexer": "ipython3",
   "version": "3.8.8"
  }
 },
 "nbformat": 4,
 "nbformat_minor": 5
}
